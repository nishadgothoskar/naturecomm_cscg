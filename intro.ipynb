{
 "cells": [
  {
   "cell_type": "code",
   "execution_count": 1,
   "metadata": {},
   "outputs": [],
   "source": [
    "import numpy as np\n",
    "from chmm_actions import CHMM\n",
    "import matplotlib.pyplot as plt"
   ]
  },
  {
   "cell_type": "markdown",
   "metadata": {},
   "source": [
    "# Training a CHMM"
   ]
  },
  {
   "cell_type": "code",
   "execution_count": 2,
   "metadata": {},
   "outputs": [
    {
     "name": "stdout",
     "output_type": "stream",
     "text": [
      "Average number of clones: 5.0\n"
     ]
    },
    {
     "name": "stderr",
     "output_type": "stream",
     "text": [
      "100%|██████████| 100/100 [00:03<00:00, 29.41it/s, train_bps=0.998]\n"
     ]
    },
    {
     "name": "stdout",
     "output_type": "stream",
     "text": [
      "0.4996067139958269\n"
     ]
    }
   ],
   "source": [
    "# Train CHMM on random data\n",
    "TIMESTEPS = 1000\n",
    "OBS = 2\n",
    "x = np.random.randint(OBS, size=(1000,)) # Observations. Replace with your data.\n",
    "a = np.zeros(1000, dtype=np.int64) # If there are actions in your domain replace this. If not, keep the vector of zeros.\n",
    "n_clones = np.ones(OBS, dtype=np.int64) * 5 # Number of clones specifies the capacity for each observation. \n",
    "\n",
    "x_test = np.random.randint(OBS, size=(1000,)) # Test observations. Replace with your data.\n",
    "a_test = np.zeros(1000, dtype=np.int64)\n",
    "\n",
    "chmm = CHMM(n_clones=n_clones, pseudocount=1e-10, x=x, a=a) # Initialize the model\n",
    "progression = chmm.learn_em_T(x, a, n_iter=100, term_early=False) # Training\n",
    "\n",
    "nll_per_prediction = chmm.bps(x_test, a_test) # Evaluate negative log-likelihood (base 2 log)\n",
    "avg_nll = np.mean(nll_per_prediction)\n",
    "avg_prediction_probability = 2**(-avg_nll)\n",
    "print(avg_prediction_probability)"
   ]
  },
  {
   "cell_type": "markdown",
   "metadata": {},
   "source": [
    "# Rectangular room datagen"
   ]
  },
  {
   "cell_type": "code",
   "execution_count": 12,
   "metadata": {},
   "outputs": [
    {
     "data": {
      "text/plain": [
       "<matplotlib.image.AxesImage at 0x7f953348f450>"
      ]
     },
     "execution_count": 12,
     "metadata": {},
     "output_type": "execute_result"
    },
    {
     "data": {
      "image/png": "[encoded data removed]",
      "text/plain": [
       "<Figure size 384x288 with 1 Axes>"
      ]
     },
     "metadata": {
      "needs_background": "light"
     },
     "output_type": "display_data"
    }
   ],
   "source": [
    "def rectangular_room_datagen(H=6, W=8, n_emissions=20, length=10000):\n",
    "    room = np.random.randint(n_emissions, size=(H, W))\n",
    "    actions = np.random.randint(4, size=length)  # 0: left, 1: right, 2: up, 3: down\n",
    "    x = np.zeros(length, int)\n",
    "    rc = np.zeros((length, 2), int)\n",
    "    r, c = np.random.randint(H), np.random.randint(W)\n",
    "    x[0] = room[r, c]\n",
    "    rc[0] = r, c\n",
    "    for i, a in enumerate(actions[:-1]):\n",
    "        if a == 0 and 0 < c:\n",
    "            c -= 1\n",
    "        elif a == 1 and c < W - 1:\n",
    "            c += 1\n",
    "        elif a == 2 and 0 < r:\n",
    "            r -= 1\n",
    "        elif a == 3 and r < H - 1:\n",
    "            r += 1\n",
    "            x[i + 1] = room[r, c]\n",
    "        x[i + 1] = room[r, c]\n",
    "        rc[i + 1] = r, c\n",
    "    return room, actions, x, rc\n",
    "\n",
    "n_emissions=20\n",
    "room, a, x, rc = rectangular_room_datagen(n_emissions=n_emissions)\n",
    "plt.matshow(room)\n",
    "\n",
    "n_clones = np.ones(n_emissions, dtype=np.int64) * 10\n",
    "chmm = CHMM(n_clones=n_clones, pseudocount=1e-10, x=x, a=a) # Initialize the model\n",
    "progression = chmm.learn_em_T(x, a, n_iter=100, term_early=False) # Training"
   ]
  },
  {
   "cell_type": "markdown",
   "metadata": {},
   "source": [
    "# Empty rectangular room datagen"
   ]
  },
  {
   "cell_type": "code",
   "execution_count": 6,
   "metadata": {},
   "outputs": [
    {
     "name": "stdout",
     "output_type": "stream",
     "text": [
      "Average number of clones: 40.0\n"
     ]
    },
    {
     "name": "stderr",
     "output_type": "stream",
     "text": [
      "100%|██████████| 100/100 [00:10<00:00,  9.60it/s, train_bps=0.0531]\n"
     ]
    },
    {
     "data": {
      "image/png": "[encoded data removed]",
      "text/plain": [
       "<Figure size 384x288 with 1 Axes>"
      ]
     },
     "metadata": {
      "needs_background": "light"
     },
     "output_type": "display_data"
    }
   ],
   "source": [
    "def empty_rectangular_room_datagen(H=6, W=8, length=10000):\n",
    "    room = np.zeros((H, W),dtype=np.int64)\n",
    "    room[:] = 0\n",
    "    room[0] = 5\n",
    "    room[-1] = 6\n",
    "    room[:, 0] = 7\n",
    "    room[:, -1] = 8\n",
    "    room[0, 0] = 1\n",
    "    room[0, -1] = 2\n",
    "    room[-1, 0] = 3\n",
    "    room[-1, -1] = 4\n",
    "    actions = np.random.randint(4, size=length)  # 0: left, 1: right, 2: up, 3: down\n",
    "    x = np.zeros(length, int)\n",
    "    rc = np.zeros((length, 2), int)\n",
    "    r, c = np.random.randint(H), np.random.randint(W)\n",
    "    x[0] = room[r, c]\n",
    "    rc[0] = r, c\n",
    "    for i, a in enumerate(actions[:-1]):\n",
    "        if a == 0 and 0 < c:\n",
    "            c -= 1\n",
    "        elif a == 1 and c < W - 1:\n",
    "            c += 1\n",
    "        elif a == 2 and 0 < r:\n",
    "            r -= 1\n",
    "        elif a == 3 and r < H - 1:\n",
    "            r += 1\n",
    "            x[i + 1] = room[r, c]\n",
    "        x[i + 1] = room[r, c]\n",
    "        rc[i + 1] = r, c\n",
    "    return room, actions, x, rc\n",
    "\n",
    "\n",
    "room, a, x, rc = empty_rectangular_room_datagen()\n",
    "plt.matshow(room)\n",
    "\n",
    "n_clones = np.ones(9, dtype=np.int64) * 40\n",
    "chmm = CHMM(n_clones=n_clones, pseudocount=1e-10, x=x, a=a) # Initialize the model\n",
    "progression = chmm.learn_em_T(x, a, n_iter=100, term_early=False) # Training"
   ]
  },
  {
   "cell_type": "markdown",
   "metadata": {},
   "source": [
    "# 3 Pentagon cliques"
   ]
  },
  {
   "cell_type": "code",
   "execution_count": 7,
   "metadata": {},
   "outputs": [
    {
     "name": "stdout",
     "output_type": "stream",
     "text": [
      "Average number of clones: 40.0\n"
     ]
    },
    {
     "name": "stderr",
     "output_type": "stream",
     "text": [
      "100%|██████████| 100/100 [00:10<00:00,  9.94it/s, train_bps=1.77]\n"
     ]
    },
    {
     "data": {
      "image/png": "[encoded data removed]",
      "text/plain": [
       "<Figure size 288x288 with 1 Axes>"
      ]
     },
     "metadata": {
      "needs_background": "light"
     },
     "output_type": "display_data"
    }
   ],
   "source": [
    "T = np.zeros((15,15))\n",
    "# Connect cliques\n",
    "for i in range(0,4+1):\n",
    "    for j in range(0,4+1):\n",
    "        if i!=j:\n",
    "            T[i,j] = 1.0\n",
    "for i in range(5,9+1):\n",
    "    for j in range(5,9+1):\n",
    "        if i!=j:\n",
    "            T[i,j] = 1.0\n",
    "for i in range(10,14+1):\n",
    "    for j in range(10,14+1):\n",
    "        if i!=j:\n",
    "            T[i,j] = 1.0\n",
    "# Disconnect in clique connector nodes\n",
    "T[0,4] = 0.0\n",
    "T[4,0] = 0.0\n",
    "T[5,9] = 0.0\n",
    "T[9,5] = 0.0\n",
    "T[10,14] = 0.0\n",
    "T[14,10] = 0.0\n",
    "# Connect cross clique connector nodes\n",
    "T[4,5] = 1.0\n",
    "T[5,4] = 1.0\n",
    "T[9,10] = 1.0\n",
    "T[10,9] = 1.0\n",
    "T[14,0] = 1.0\n",
    "T[0,14] = 1.0\n",
    "plt.matshow(T)\n",
    "\n",
    "# Draw data\n",
    "states = [0]\n",
    "for _ in range(10000):\n",
    "    prev_state = states[-1]\n",
    "    \n",
    "    possible_next_states = np.where(T[prev_state,:])[0]\n",
    "    next_state = np.random.choice(possible_next_states)\n",
    "    states.append(next_state)\n",
    "states = np.array(states)\n",
    "\n",
    "state_to_obs = np.array([1,2,3,4,5,6,1,4,5,2,8,2,3,5,7], dtype=int) - 1 # Aliasing version\n",
    "\n",
    "# Create observation data\n",
    "x = state_to_obs[states]\n",
    "a = np.zeros(len(x),dtype=int)\n",
    "\n",
    "n_clones = np.ones(8, dtype=np.int64) * 40\n",
    "chmm = CHMM(n_clones=n_clones, pseudocount=1e-10, x=x, a=a) # Initialize the model\n",
    "progression = chmm.learn_em_T(x, a, n_iter=100, term_early=False) # Training"
   ]
  },
  {
   "cell_type": "markdown",
   "metadata": {},
   "source": [
    "# 5x5 mazes"
   ]
  },
  {
   "cell_type": "code",
   "execution_count": 8,
   "metadata": {},
   "outputs": [
    {
     "name": "stdout",
     "output_type": "stream",
     "text": [
      "Average number of clones: 2.0\n"
     ]
    },
    {
     "name": "stderr",
     "output_type": "stream",
     "text": [
      "100%|██████████| 100/100 [00:00<00:00, 129.57it/s, train_bps=0.000464]\n"
     ]
    },
    {
     "data": {
      "image/png": "[encoded data removed]",
      "text/plain": [
       "<Figure size 288x288 with 1 Axes>"
      ]
     },
     "metadata": {
      "needs_background": "light"
     },
     "output_type": "display_data"
    }
   ],
   "source": [
    "def fivebyfive_room_datagen(length=10000):\n",
    "    room = np.random.permutation(25).reshape(5,5)\n",
    "    H,W = 5,5\n",
    "    actions = np.random.randint(4, size=length)  # 0: left, 1: right, 2: up, 3: down\n",
    "    x = np.zeros(length, int)\n",
    "    rc = np.zeros((length, 2), int)\n",
    "    r, c = np.random.randint(H), np.random.randint(W)\n",
    "    x[0] = room[r, c]\n",
    "    rc[0] = r, c\n",
    "    for i, a in enumerate(actions[:-1]):\n",
    "        if a == 0 and 0 < c:\n",
    "            c -= 1\n",
    "        elif a == 1 and c < W - 1:\n",
    "            c += 1\n",
    "        elif a == 2 and 0 < r:\n",
    "            r -= 1\n",
    "        elif a == 3 and r < H - 1:\n",
    "            r += 1\n",
    "            x[i + 1] = room[r, c]\n",
    "        x[i + 1] = room[r, c]\n",
    "        rc[i + 1] = r, c\n",
    "    return room, actions, x, rc\n",
    "\n",
    "room, a, x, rc = fivebyfive_room_datagen()\n",
    "plt.matshow(room)\n",
    "\n",
    "n_clones = np.ones(25, dtype=np.int64) * 2\n",
    "chmm = CHMM(n_clones=n_clones, pseudocount=1e-10, x=x, a=a) # Initialize the model\n",
    "progression = chmm.learn_em_T(x, a, n_iter=100, term_early=False) # Training"
   ]
  }
 ],
 "metadata": {
  "kernelspec": {
   "display_name": "Python 3",
   "language": "python",
   "name": "python3"
  },
  "language_info": {
   "codemirror_mode": {
    "name": "ipython",
    "version": 3
   },
   "file_extension": ".py",
   "mimetype": "text/x-python",
   "name": "python",
   "nbconvert_exporter": "python",
   "pygments_lexer": "ipython3",
   "version": "3.7.9"
  }
 },
 "nbformat": 4,
 "nbformat_minor": 4
}
